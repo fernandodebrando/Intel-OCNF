{
  "cells": [
    {
      "cell_type": "code",
      "metadata": {},
      "source": [
        "import matplotlib.pyplot as plt; plt.rcdefaults()\n",
        "import numpy as np\n",
        "import matplotlib.pyplot as plt \n",
        "import pandas as pd\n",
        "\n",
        "def graph(objects,performance,x_label,y_label):\n",
        "    y_pos = np.arange(len(objects))\n",
        "    plt.barh(y_pos, performance, align='center', alpha=0.5)\n",
        "    plt.yticks(y_pos, objects)\n",
        "    plt.xlabel(x_label)\n",
        "    plt.title(y_label)\n",
        "    plt.show()\n",
        "\n",
        "df=pd.read_csv('all_data.csv', usecols=[\"Label\"])\n",
        "print(df.iloc[:,0].value_counts())\n",
        "a=(df.iloc[:,0].value_counts())\n",
        "\n",
        "key=a.keys()\n",
        "values=a.values\n",
        "small_labels=[]\n",
        "small_values=[]\n",
        "big_labels=[]\n",
        "big_values=[]\n",
        "medium_labels=[]\n",
        "medium_values=[]\n",
        "attacak=0\n",
        "benign=0\n",
        "\n",
        "for i in range(0,len(values)):\n",
        "    if values[i]>11000:\n",
        "        big_labels.append(str(key[i]))\n",
        "        big_values.append(values[i])\n",
        "    elif values[i]<600:\n",
        "        small_labels.append(str(key[i]))\n",
        "        small_values.append(values[i]) \n",
        "    else:\n",
        "        medium_labels.append(str(key[i]))\n",
        "        medium_values.append(values[i])\n",
        "\n",
        "    if str(key[i])==\"BENIGN\":\n",
        "        benign+=values[i]\n",
        "    else:\n",
        "        attacak+=values[i]\n",
        "        \n",
        "key =[benign,attacak]\n",
        "\n",
        "labels=[\"BENIGN %\"+str(round(benign/(benign+attacak),2)*100),\n",
        "        \"ATTACK %\"+str(round(attacak/(benign+attacak),2)*100)]\n",
        "graph(big_labels,big_values,\"Numbers\",\"Attacks Labels - High-number group\")\n",
        "graph(medium_labels,medium_values,\"Numbers\",\"Attacks Labels - Medium-number group\")\n",
        "graph(small_labels,small_values,\"Numbers\",\"Attacks Labels - Small -number group\")\n",
        "graph(labels,key,\"Numbers\",\"Attack and Benign Percentage\")\n",
        "\n",
        "print(\"ok!\")\n",
        "\n"
      ],
      "outputs": [],
      "execution_count": null
    }
  ],
  "metadata": {
    "anaconda-cloud": {},
    "kernelspec": {
      "display_name": "Python 3",
      "language": "python",
      "name": "python3"
    },
    "language_info": {
      "codemirror_mode": {
        "name": "ipython",
        "version": 3
      },
      "file_extension": ".py",
      "mimetype": "text/x-python",
      "name": "python",
      "nbconvert_exporter": "python",
      "pygments_lexer": "ipython3",
      "version": "3.6.1"
    }
  },
  "nbformat": 4,
  "nbformat_minor": 1
}